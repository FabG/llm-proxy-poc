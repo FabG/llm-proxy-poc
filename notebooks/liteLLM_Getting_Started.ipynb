{
 "cells": [
  {
   "cell_type": "markdown",
   "metadata": {
    "id": "MZ01up0p7wOJ"
   },
   "source": [
    "## 🚅 liteLLM Quick Start Demo\n",
    "### TLDR: Call 50+ LLM APIs using chatGPT Input/Output format\n",
    "https://github.com/BerriAI/litellm\n",
    "\n",
    "liteLLM is package to simplify calling **OpenAI, Azure, Llama2, Cohere, Anthropic, Huggingface API Endpoints**. LiteLLM manages\n",
    "\n"
   ]
  },
  {
   "cell_type": "markdown",
   "metadata": {
    "id": "RZtzCnQS7rW-"
   },
   "source": [
    "## Installation and setting Params"
   ]
  },
  {
   "cell_type": "markdown",
   "metadata": {
    "id": "rsrN5W-N7L8d"
   },
   "source": [
    "Run if needed:\n",
    "```!pip install litellm```"
   ]
  },
  {
   "cell_type": "code",
   "execution_count": 1,
   "metadata": {
    "id": "ArrWyG5b7QAG"
   },
   "outputs": [],
   "source": [
    "from litellm import completion"
   ]
  },
  {
   "cell_type": "markdown",
   "metadata": {
    "id": "bbhJRt34_NJ1"
   },
   "source": [
    "## Set your API keys\n",
    "liteLLM reads your .env, env variables or key manager for Auth\n",
    "\n",
    "- Azure: OPENAI_API_KEY\n",
    "- AWS: AWS_ACCESS_KEY_ID, AWS_SECRET_ACCESS_KEY and AWS_REGION_NAME\n",
    "- Anthropic: ANTHROPIC_API_KEY\n",
    "- and many more LLM providers\n",
    "```"
   ]
  },
  {
   "cell_type": "code",
   "execution_count": 2,
   "metadata": {},
   "outputs": [],
   "source": [
    "messages = [{ \"content\": \"what does JPMC stand for\",\"role\": \"user\"}]"
   ]
  },
  {
   "cell_type": "markdown",
   "metadata": {
    "id": "fhqpKv6L8fBj"
   },
   "source": [
    "## Call OpenAI chatGPT"
   ]
  },
  {
   "cell_type": "code",
   "execution_count": 3,
   "metadata": {
    "colab": {
     "base_uri": "https://localhost:8080/"
    },
    "id": "speIkoX_8db4",
    "outputId": "331a6c65-f121-4e65-e121-bf8aaad05d9d"
   },
   "outputs": [
    {
     "data": {
      "text/plain": [
       "ModelResponse(id='chatcmpl-9pi2oK3u3uFqdvQXDs8wkywR2sJeQ', choices=[Choices(finish_reason='stop', index=0, message=Message(content='JPMC stands for JPMorgan Chase & Co., an American multinational investment bank and financial services company.', role='assistant', tool_calls=None, function_call=None))], created=1722111062, model='gpt-3.5-turbo-0125', object='chat.completion', system_fingerprint=None, usage=Usage(completion_tokens=21, prompt_tokens=13, total_tokens=34))"
      ]
     },
     "execution_count": 3,
     "metadata": {},
     "output_type": "execute_result"
    }
   ],
   "source": [
    "completion(model=\"gpt-3.5-turbo\", messages=messages)"
   ]
  },
  {
   "cell_type": "markdown",
   "metadata": {},
   "source": [
    "# Call Anthropic Claude"
   ]
  },
  {
   "cell_type": "code",
   "execution_count": 4,
   "metadata": {},
   "outputs": [
    {
     "data": {
      "text/plain": [
       "ModelResponse(id='chatcmpl-d4474560-582a-412b-a154-9582696986eb', choices=[Choices(finish_reason='stop_sequence', index=0, message=Message(content=\" JPMC stands for JPMorgan Chase & Co. It's one of the largest banking and financial services companies in the United States. Some key details about JPMC:\\n\\n- The letters stand for JPMorgan Chase & Co. JPMorgan Chase is the company's full name.\\n\\n- It's headquartered in New York City and provides services including consumer and community banking, investment banking, commercial banking, financial transaction processing, asset management, and private equity.\\n\\n- JPMC was formed in 2000 when J.P. Morgan & Co. merged with Chase Manhattan Bank.\\n\\n- It operates consumer banking under brands including Chase Bank, J.P. Morgan, and others.\\n\\nSo in short, JPMC refers to the JPMorgan Chase & Co. financial services conglomerate and all its various subsidiaries and brands. The JPMC abbreviation is commonly used to refer to the whole JPMorgan Chase organization.\", role='assistant', tool_calls=None, function_call=None))], created=1722111069, model='claude-2', object='chat.completion', system_fingerprint=None, usage=Usage(prompt_tokens=13, completion_tokens=179, total_tokens=192))"
      ]
     },
     "execution_count": 4,
     "metadata": {},
     "output_type": "execute_result"
    }
   ],
   "source": [
    "completion(model=\"claude-2\", messages=messages)"
   ]
  },
  {
   "cell_type": "markdown",
   "metadata": {
    "id": "1g9hSgsL9soJ"
   },
   "source": [
    "## Call BedRock"
   ]
  },
  {
   "cell_type": "code",
   "execution_count": null,
   "metadata": {
    "id": "RFC1e4L_jIir"
   },
   "outputs": [],
   "source": [
    "completion(model=\"bedrock/anthropic.claude-3-sonnet-20240229-v1:0\", messages=messages)"
   ]
  },
  {
   "cell_type": "code",
   "execution_count": null,
   "metadata": {},
   "outputs": [],
   "source": []
  }
 ],
 "metadata": {
  "colab": {
   "provenance": []
  },
  "kernelspec": {
   "display_name": "Python 3 (ipykernel)",
   "language": "python",
   "name": "python3"
  },
  "language_info": {
   "codemirror_mode": {
    "name": "ipython",
    "version": 3
   },
   "file_extension": ".py",
   "mimetype": "text/x-python",
   "name": "python",
   "nbconvert_exporter": "python",
   "pygments_lexer": "ipython3",
   "version": "3.8.3"
  }
 },
 "nbformat": 4,
 "nbformat_minor": 4
}
